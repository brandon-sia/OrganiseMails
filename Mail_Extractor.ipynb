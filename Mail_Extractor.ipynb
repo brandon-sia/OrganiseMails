{
 "cells": [
  {
   "cell_type": "code",
   "execution_count": null,
   "metadata": {},
   "outputs": [],
   "source": [
    "import extract_msg\n",
    "import os\n",
    "import tkinter as tk\n",
    "from tkinter import filedialog \n",
    "import re\n",
    "from datetime import datetime\n",
    "import shutil\n",
    "from collections import defaultdict\n",
    "from dateutil.parser import parse"
   ]
  },
  {
   "cell_type": "code",
   "execution_count": null,
   "metadata": {},
   "outputs": [],
   "source": [
    "root = tk.Tk()\n",
    "\n",
    "root.lift()\n",
    "root.attributes(\"-topmost\", True)\n",
    "prompt = tk.Label(text=\"Choose folder to look for files\")\n",
    "prompt.config(font=(\"Helvetica\", 40))\n",
    "prompt.pack()\n",
    "\n",
    "\n",
    "\n",
    "my_dir = filedialog.askdirectory()\n",
    "\n",
    "root.withdraw()\n",
    "root.destroy()"
   ]
  },
  {
   "cell_type": "code",
   "execution_count": null,
   "metadata": {},
   "outputs": [],
   "source": [
    "root = tk.Tk()\n",
    "\n",
    "root.lift()\n",
    "root.attributes(\"-topmost\", True)\n",
    "prompt = tk.Label(text=\"Choose folder to save files\")\n",
    "prompt.config(font=(\"Helvetica\", 40))\n",
    "prompt.pack()\n",
    "\n",
    "\n",
    "\n",
    "my_dest = filedialog.askdirectory()\n",
    "\n",
    "root.withdraw()\n",
    "root.destroy()"
   ]
  },
  {
   "cell_type": "code",
   "execution_count": null,
   "metadata": {
    "scrolled": true
   },
   "outputs": [],
   "source": [
    "count = 0\n",
    "for path, subdirs, files in os.walk(my_dir):\n",
    "    for name in files:\n",
    "        src =  os.path.join(path, name)\n",
    "        print(name)\n",
    "        \n",
    "        ext_ = os.path.splitext(name)[1]\n",
    "        fname = os.path.splitext(name)[0]\n",
    "        shutil.copy(src, my_dest)\n",
    "        os.rename(os.path.join(my_dest,name),os.path.join(my_dest,fname+str(count).zfill(3)+ext_))\n",
    "        count+=1\n",
    "        \n",
    "    \n",
    "    \n",
    "    \n",
    "        \n"
   ]
  },
  {
   "cell_type": "code",
   "execution_count": null,
   "metadata": {},
   "outputs": [],
   "source": [
    "my_msg_dic = defaultdict(dict)"
   ]
  },
  {
   "cell_type": "code",
   "execution_count": null,
   "metadata": {},
   "outputs": [],
   "source": [
    "for doc in os.listdir(my_dest):\n",
    "    \n",
    "    \n",
    "   \n",
    "    if doc.lower().endswith(\".msg\"):\n",
    "\n",
    "        path = my_dest + '/' + doc\n",
    "        msg = extract_msg.Message(path)\n",
    "        msg_sender = msg.sender\n",
    "        msg_date = msg.date\n",
    "        msg_subj = msg.subject\n",
    "        msg_message = msg.body\n",
    "        \n",
    "        \n",
    "    \n",
    "        clean_sub = re.sub('[\\\\\\\\/:*?\\\"<>|]', '-', msg_subj)\n",
    "          \n",
    "\n",
    "        \n",
    "        clean_date = (msg_date.split(' '))\n",
    "        \n",
    "        \n",
    "        date_string_1 = ' '.join([word for word in clean_date[1:4]])\n",
    "        date_string_2 = ' '.join([word for word in clean_date[4:5]])\n",
    "        \n",
    "        \n",
    "        dt_1 = parse(date_string_1)\n",
    "        dt_2 = parse(date_string_2)\n",
    "       \n",
    "        date_1 = dt_1.strftime('%d %B %y')\n",
    "        date_2 = dt_2.strftime('%H:%M:%S')\n",
    "        \n",
    "        #print(date)\n",
    "        date_time_obj_1 = datetime.strptime(date_1, '%d %B %y')\n",
    "        date_time_obj_2 = datetime.strptime(date_2, '%H:%M:%S')\n",
    "        \n",
    "        #print(date_time_obj)\n",
    "        date_time_str_1 = \"{}\".format(date_time_obj_1)\n",
    "        date_time_str_2 = \"{}\".format(date_time_obj_2)  \n",
    "        \n",
    " \n",
    "        \n",
    "        clean_date_1 = date_time_str_1\n",
    "        clean_date_2  = date_time_str_2.replace(':','-') \n",
    "        datelist = list(clean_date_2)\n",
    "        datelist[10]=\"T\"\n",
    "        clean_date_2 = \"\".join(datelist)\n",
    "        \n",
    "        my_msg_dic[doc]=\"[{} {}]\".format(clean_date_1,clean_date_2[10:])+ \" \" + clean_sub[:50] +\"...\"\n",
    "        \n",
    "        \n",
    "        msg.close()\n",
    "        \n",
    "    \n",
    "  \n",
    "    \n",
    "        \n",
    "       \n",
    "          \n",
    "   \n",
    "\n",
    " \n",
    "  \n",
    " "
   ]
  },
  {
   "cell_type": "code",
   "execution_count": null,
   "metadata": {
    "scrolled": false
   },
   "outputs": [],
   "source": [
    "my_msg_dic"
   ]
  },
  {
   "cell_type": "code",
   "execution_count": null,
   "metadata": {},
   "outputs": [],
   "source": [
    "for key,value in my_msg_dic.items():\n",
    "    \n",
    "    try:\n",
    "        \n",
    "        os.rename(os.path.join(my_dest,key),os.path.join(my_dest,value+\".msg\"))\n",
    "        \n",
    "        print(os.path.join(my_dest,key))\n",
    "        \n",
    "    except BaseException as error:\n",
    "        print('An exception occurred: {}\\n'.format(error))\n",
    "        print(os.path.join(my_dest,key))\n",
    "        \n",
    "    \n",
    "    "
   ]
  },
  {
   "cell_type": "code",
   "execution_count": null,
   "metadata": {},
   "outputs": [],
   "source": []
  }
 ],
 "metadata": {
  "kernelspec": {
   "display_name": "Python 3",
   "language": "python",
   "name": "python3"
  },
  "language_info": {
   "codemirror_mode": {
    "name": "ipython",
    "version": 3
   },
   "file_extension": ".py",
   "mimetype": "text/x-python",
   "name": "python",
   "nbconvert_exporter": "python",
   "pygments_lexer": "ipython3",
   "version": "3.7.6"
  }
 },
 "nbformat": 4,
 "nbformat_minor": 4
}
